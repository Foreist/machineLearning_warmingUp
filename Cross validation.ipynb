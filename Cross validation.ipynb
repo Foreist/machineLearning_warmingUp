{
 "cells": [
  {
   "cell_type": "code",
   "execution_count": 1,
   "metadata": {
    "ExecuteTime": {
     "end_time": "2019-10-10T00:44:56.864733Z",
     "start_time": "2019-10-10T00:44:52.972488Z"
    }
   },
   "outputs": [],
   "source": [
    "from sklearn import datasets\n",
    "boston = datasets.load_boston()"
   ]
  },
  {
   "cell_type": "code",
   "execution_count": 49,
   "metadata": {
    "ExecuteTime": {
     "end_time": "2019-10-10T01:33:16.871557Z",
     "start_time": "2019-10-10T01:33:16.864678Z"
    }
   },
   "outputs": [
    {
     "data": {
      "text/plain": [
       "dict_keys(['data', 'target', 'feature_names', 'DESCR', 'filename'])"
      ]
     },
     "execution_count": 49,
     "metadata": {},
     "output_type": "execute_result"
    }
   ],
   "source": [
    "boston.keys()"
   ]
  },
  {
   "cell_type": "code",
   "execution_count": 2,
   "metadata": {
    "ExecuteTime": {
     "end_time": "2019-10-10T00:45:02.121404Z",
     "start_time": "2019-10-10T00:45:02.116481Z"
    }
   },
   "outputs": [],
   "source": [
    "X = boston.data\n",
    "y = boston.target"
   ]
  },
  {
   "cell_type": "code",
   "execution_count": 5,
   "metadata": {
    "ExecuteTime": {
     "end_time": "2019-10-10T00:47:28.974992Z",
     "start_time": "2019-10-10T00:47:28.964248Z"
    }
   },
   "outputs": [
    {
     "name": "stdout",
     "output_type": "stream",
     "text": [
      "Train:  455\n",
      "test:  51\n",
      "Train:  455\n",
      "test:  51\n",
      "Train:  455\n",
      "test:  51\n",
      "Train:  455\n",
      "test:  51\n",
      "Train:  455\n",
      "test:  51\n",
      "Train:  455\n",
      "test:  51\n",
      "Train:  456\n",
      "test:  50\n",
      "Train:  456\n",
      "test:  50\n",
      "Train:  456\n",
      "test:  50\n",
      "Train:  456\n",
      "test:  50\n",
      "[  4  25  27  50  67  99 116 117 124 134 142 161 162 170 183 184 194 206\n",
      " 221 226 230 262 287 299 320 324 329 354 361 367 375 378 397 400 420 427\n",
      " 433 449 450 461 463 467 468 473 475 483 488 491 500 503]\n"
     ]
    }
   ],
   "source": [
    "from sklearn.model_selection import KFold\n",
    "\n",
    "kf = KFold(n_splits = 10, shuffle = True) # 나누기 전에 섞어줌\n",
    "\n",
    "for train_index, test_index in kf.split(X): # \n",
    "    print('Train: ', train_index.size)\n",
    "    print('test: ', test_index.size)\n",
    "print(test_index) # 섞여 있는지 확인"
   ]
  },
  {
   "cell_type": "code",
   "execution_count": 14,
   "metadata": {
    "ExecuteTime": {
     "end_time": "2019-10-10T00:55:20.800227Z",
     "start_time": "2019-10-10T00:55:20.700631Z"
    }
   },
   "outputs": [
    {
     "data": {
      "text/plain": [
       "(34.46408458830233, 34.07824620925937)"
      ]
     },
     "execution_count": 14,
     "metadata": {},
     "output_type": "execute_result"
    }
   ],
   "source": [
    "from sklearn.linear_model import Lasso, Ridge\n",
    "from sklearn.metrics import mean_squared_error\n",
    "kf = KFold(n_splits = 10)\n",
    "lasso = Lasso() # 이런 모델들은 다른 변수로 이동해서 사용해야 함\n",
    "ridge = Ridge()\n",
    "\n",
    "lasso_mse = []\n",
    "ridge_mse = []\n",
    "\n",
    "for train_index, test_index in kf.split(X):\n",
    "    lasso.fit(X[train_index], y[train_index])\n",
    "    ridge.fit(X[train_index], y[train_index])\n",
    "    \n",
    "    lasso_mse.append(mean_squared_error(y[test_index], lasso.predict(X[test_index])))\n",
    "    ridge_mse.append(mean_squared_error(y[test_index], ridge.predict(X[test_index])))\n",
    "    \n",
    "np.mean(lasso_mse), np.mean(ridge_mse)"
   ]
  },
  {
   "cell_type": "code",
   "execution_count": 50,
   "metadata": {
    "ExecuteTime": {
     "end_time": "2019-10-10T01:36:45.077427Z",
     "start_time": "2019-10-10T01:36:45.073533Z"
    }
   },
   "outputs": [],
   "source": [
    "# 위아래 동일, 사이킷런은 값이 클수록 좋다는 정책이 있어서 rmse가 없음"
   ]
  },
  {
   "cell_type": "code",
   "execution_count": 11,
   "metadata": {
    "ExecuteTime": {
     "end_time": "2019-10-10T00:54:19.306680Z",
     "start_time": "2019-10-10T00:54:19.260784Z"
    }
   },
   "outputs": [
    {
     "data": {
      "text/plain": [
       "(-34.46408458830233, -34.07824620925937)"
      ]
     },
     "execution_count": 11,
     "metadata": {},
     "output_type": "execute_result"
    }
   ],
   "source": [
    "from sklearn.model_selection import cross_val_score\n",
    "import numpy as np\n",
    "\n",
    "lasso_regressor = Lasso(warm_start = False) # 시작값을 정해줄 것인가?\n",
    "ridge_regressor = Ridge()\n",
    "\n",
    "lasso_scores = cross_val_score(lasso_regressor, X, y, cv = 10, scoring = 'neg_mean_squared_error')\n",
    "ridge_scores = cross_val_score(ridge_regressor, X, y, cv = 10, scoring = 'neg_mean_squared_error')\n",
    "np.mean(lasso_scores), np.mean(ridge_scores)"
   ]
  },
  {
   "cell_type": "code",
   "execution_count": 16,
   "metadata": {
    "ExecuteTime": {
     "end_time": "2019-10-10T01:11:13.941303Z",
     "start_time": "2019-10-10T01:11:13.892472Z"
    }
   },
   "outputs": [
    {
     "data": {
      "text/plain": [
       "{'fit_time': array([0.00097752, 0.00195241, 0.00097609, 0.00195312, 0.00097418,\n",
       "        0.00097871, 0.00097704, 0.00097609, 0.00097656, 0.0009768 ]),\n",
       " 'score_time': array([0.00097752, 0.00097752, 0.00097656, 0.        , 0.00097609,\n",
       "        0.00097489, 0.00097632, 0.00097704, 0.00097704, 0.        ]),\n",
       " 'test_neg_mean_squared_error': array([ -11.75904887,  -17.87218543,  -10.52504673,  -60.79224355,\n",
       "         -46.77806854,  -40.75196077,  -17.30562005, -102.67754279,\n",
       "         -22.8731834 ,  -13.30594575]),\n",
       " 'test_r2': array([ 0.66289033,  0.33452353, -0.50043664,  0.38035161,  0.33638098,\n",
       "         0.4584511 , -0.0816218 ,  0.31138236, -0.21362102,  0.29459703])}"
      ]
     },
     "execution_count": 16,
     "metadata": {},
     "output_type": "execute_result"
    }
   ],
   "source": [
    "from sklearn.model_selection import cross_validate\n",
    "import numpy as np\n",
    "\n",
    "lasso_regressor = Lasso(warm_start = False)\n",
    "ridge_regressor = Ridge()\n",
    "\n",
    "scoring = ['neg_mean_squared_error', 'r2']\n",
    "\n",
    "lasso_scores = cross_validate(lasso_regressor, X, y, cv = 10, scoring = scoring)\n",
    "ridge_scores = cross_validate(ridge_regressor, X, y, cv = 10,\n",
    "                              scoring = 'neg_mean_squared_error')\n",
    "lasso_scores"
   ]
  },
  {
   "cell_type": "code",
   "execution_count": 19,
   "metadata": {
    "ExecuteTime": {
     "end_time": "2019-10-10T01:14:09.070905Z",
     "start_time": "2019-10-10T01:14:09.025982Z"
    }
   },
   "outputs": [
    {
     "data": {
      "text/plain": [
       "(-28.47508943804025, -23.646416456016684)"
      ]
     },
     "execution_count": 19,
     "metadata": {},
     "output_type": "execute_result"
    }
   ],
   "source": [
    "from sklearn.model_selection import cross_val_score\n",
    "import numpy as np\n",
    "\n",
    "lasso_regressor = Lasso(warm_start = False)\n",
    "ridge_regressor = Ridge()\n",
    "\n",
    "kf = KFold(n_splits = 10, shuffle = True)\n",
    "\n",
    "lasso_scores = cross_val_score(lasso_regressor, X, y, cv = kf,\n",
    "                               scoring = 'neg_mean_squared_error')\n",
    "ridge_scores = cross_val_score(ridge_regressor, X, y, cv = kf,\n",
    "                               scoring = 'neg_mean_squared_error')\n",
    "np.mean(lasso_scores), np.mean(ridge_scores)"
   ]
  },
  {
   "cell_type": "code",
   "execution_count": 20,
   "metadata": {
    "ExecuteTime": {
     "end_time": "2019-10-10T01:14:56.466062Z",
     "start_time": "2019-10-10T01:14:56.458275Z"
    }
   },
   "outputs": [
    {
     "name": "stdout",
     "output_type": "stream",
     "text": [
      "[1 2 3] [0]\n",
      "[0 2 3] [1]\n",
      "[0 1 3] [2]\n",
      "[0 1 2] [3]\n"
     ]
    }
   ],
   "source": [
    "from sklearn.model_selection import LeaveOneOut\n",
    "# 딱 하나만 빼주는 듯\n",
    "test = [1, 2, 3, 4]\n",
    "loo = LeaveOneOut()\n",
    "for train, test in loo.split(test):\n",
    "    print(train, test)"
   ]
  },
  {
   "cell_type": "code",
   "execution_count": 24,
   "metadata": {
    "ExecuteTime": {
     "end_time": "2019-10-10T01:17:03.286210Z",
     "start_time": "2019-10-10T01:17:01.755134Z"
    }
   },
   "outputs": [
    {
     "data": {
      "text/plain": [
       "(-28.409266762049334, -23.862836317209972)"
      ]
     },
     "execution_count": 24,
     "metadata": {},
     "output_type": "execute_result"
    }
   ],
   "source": [
    "lasso_scores = cross_val_score(lasso_regressor, X, y, cv = loo,\n",
    "                              scoring = 'neg_mean_squared_error')\n",
    "ridge_scores = cross_val_score(ridge_regressor, X, y, cv = loo,\n",
    "                              scoring = 'neg_mean_squared_error')\n",
    "np.mean(lasso_scores), np.mean(ridge_scores)"
   ]
  },
  {
   "cell_type": "code",
   "execution_count": 25,
   "metadata": {
    "ExecuteTime": {
     "end_time": "2019-10-10T01:18:00.577697Z",
     "start_time": "2019-10-10T01:18:00.539608Z"
    }
   },
   "outputs": [],
   "source": [
    "lasso_scores = cross_val_score(\n",
    "    lasso_regressor, X, y, cv = kf, scoring = 'neg_mean_squared_error')\n",
    "ridge_scores = cross_val_score(\n",
    "    ridge_regressor, X, y, cv = kf, scoring = 'neg_mean_squared_error')"
   ]
  },
  {
   "cell_type": "code",
   "execution_count": 31,
   "metadata": {
    "ExecuteTime": {
     "end_time": "2019-10-10T01:19:48.784084Z",
     "start_time": "2019-10-10T01:19:48.585582Z"
    }
   },
   "outputs": [
    {
     "data": {
      "image/png": "[encoded data removed]",
      "text/plain": [
       "<Figure size 432x288 with 1 Axes>"
      ]
     },
     "metadata": {
      "needs_background": "light"
     },
     "output_type": "display_data"
    }
   ],
   "source": [
    "import matplotlib.pyplot as plt\n",
    "labels = ['LASSO', 'RIDGE']\n",
    "plt.boxplot(x = (lasso_scores, ridge_scores), labels = labels)\n",
    "plt.grid(linestyle = '--')\n",
    "plt.show()"
   ]
  },
  {
   "cell_type": "code",
   "execution_count": 33,
   "metadata": {
    "ExecuteTime": {
     "end_time": "2019-10-10T01:20:24.767261Z",
     "start_time": "2019-10-10T01:20:24.761403Z"
    }
   },
   "outputs": [],
   "source": [
    "def rmse(predictions, targets):\n",
    "    return np.sqrt(((predictions - targets) ** 2).mean())"
   ]
  },
  {
   "cell_type": "code",
   "execution_count": 34,
   "metadata": {
    "ExecuteTime": {
     "end_time": "2019-10-10T01:21:18.868872Z",
     "start_time": "2019-10-10T01:21:18.859107Z"
    }
   },
   "outputs": [],
   "source": [
    "from sklearn.linear_model import SGDRegressor\n",
    "from sklearn.preprocessing import StandardScaler\n",
    "\n",
    "std = StandardScaler()\n",
    "std.fit(X)\n",
    "X_scaled = std.transform(X)\n",
    "\n",
    "eta0 = 0.01\n",
    "max_iter = 100"
   ]
  },
  {
   "cell_type": "code",
   "execution_count": 38,
   "metadata": {
    "ExecuteTime": {
     "end_time": "2019-10-10T01:27:51.129400Z",
     "start_time": "2019-10-10T01:27:50.857351Z"
    }
   },
   "outputs": [],
   "source": [
    "from sklearn.model_selection import train_test_split\n",
    "\n",
    "X_train_dataset, X_test, y_train_dataset, y_test = train_test_split(\n",
    "    X_scaled, y, test_size = 0.2, random_state = 42)\n",
    "sgd_regressor = SGDRegressor(\n",
    "    eta0 = eta0, max_iter = max_iter, warm_start = True, learning_rate = 'constant')\n",
    "\n",
    "rmse_val_score = []\n",
    "rmse_train_score = []\n",
    "model_list = []\n",
    "\n",
    "X_train, X_val, y_train, y_val = train_test_split(\n",
    "    X_train_dataset, y_train_dataset, test_size = 0.2, random_state = 42)\n",
    "sgd_regressor.fit(X_train, y_train)\n",
    "\n",
    "for i in range(300):\n",
    "    \n",
    "    y_pred = sgd_regressor.predict(X_train)\n",
    "    y_true = y_train\n",
    "    rmse_train_score.append(rmse(y_pred, y_true))\n",
    "    \n",
    "    y_pred = sgd_regressor.predict(X_val)\n",
    "    y_true = y_val\n",
    "    rmse_val_score.append(rmse(y_pred, y_true))\n",
    "    model_list.append(sgd_regressor)\n",
    "    \n",
    "    coef = sgd_regressor.coef_.copy()\n",
    "    intercept = sgd_regressor.intercept_.copy()\n",
    "    \n",
    "    sgd_regressor = SGDRegressor(\n",
    "        eta0 = eta0, max_iter = max_iter, warm_start = True, learning_rate = 'constant')\n",
    "    \n",
    "    sgd_regressor.fit(X_train, y_train, coef_init = coef, intercept_init = intercept)"
   ]
  },
  {
   "cell_type": "code",
   "execution_count": 42,
   "metadata": {
    "ExecuteTime": {
     "end_time": "2019-10-10T01:30:22.715898Z",
     "start_time": "2019-10-10T01:30:22.473170Z"
    }
   },
   "outputs": [
    {
     "data": {
      "image/png": "[encoded data removed]",
      "text/plain": [
       "<Figure size 432x288 with 1 Axes>"
      ]
     },
     "metadata": {
      "needs_background": "light"
     },
     "output_type": "display_data"
    }
   ],
   "source": [
    "plt.plot(range(len(rmse_val_score)), rmse_val_score, c = 'G', label = 'VAL')\n",
    "plt.plot(range(len(rmse_train_score)), rmse_train_score, c = 'R', label = 'Training')\n",
    "plt.scatter(99, rmse(y_test, sgd_regressor.predict(X_test)), s= 1, label = 'TEST')\n",
    "plt.legend()\n",
    "plt.show() "
   ]
  },
  {
   "cell_type": "code",
   "execution_count": 43,
   "metadata": {
    "ExecuteTime": {
     "end_time": "2019-10-10T01:30:35.785429Z",
     "start_time": "2019-10-10T01:30:35.777614Z"
    }
   },
   "outputs": [
    {
     "data": {
      "text/plain": [
       "array([218,  82, 130,  46, 209, 145, 155,  75,  79,  61, 193, 199, 254,\n",
       "        87, 287, 154, 215, 291,  51, 153, 275, 239, 194,  57, 264,  53,\n",
       "       112, 299, 211, 298, 160,  44,   4, 231, 142, 109,  91, 224, 250,\n",
       "       244, 144,  17, 165,  43, 220,  94, 255, 246, 251, 248,  55,  64,\n",
       "        10,  49, 114, 157,  99, 143, 238,   1, 207, 274, 196,   9, 167,\n",
       "       101,  86,  52, 242, 125,  12, 108, 135, 205, 147, 281, 169, 269,\n",
       "         3, 140, 223, 190, 122, 168, 222, 188,  81, 117,  56,  19, 176,\n",
       "       232,  15,   6,  18, 179, 261, 183,  72, 271, 198, 204, 133, 132,\n",
       "       103, 191,  85, 226, 294, 192,  73, 212,  77, 297, 252,  47, 106,\n",
       "        28, 200, 182,  26, 151,  67,  88,  48, 262, 241, 173,  76, 253,\n",
       "       201, 296,  90,  54, 164, 221,  35, 107, 270, 236,   0, 228, 259,\n",
       "        58, 102, 256, 247,  83, 263, 110, 202, 127, 225, 134, 150, 230,\n",
       "        92,  27, 268, 123,  30, 217,  39, 119,  50, 137, 163,  65, 105,\n",
       "       283,  60, 178, 148,  59, 278, 210,  45,   2, 216, 189,  84, 243,\n",
       "        33, 276,  98, 116, 292, 197, 284, 115, 138,   5, 152, 295, 203,\n",
       "        78, 260, 118, 285, 124,  11, 100, 113,   8, 175, 206, 249, 282,\n",
       "       180, 131, 219,  93, 136, 272,  97, 214, 273, 128, 286, 185,  16,\n",
       "       288, 171,  32, 166, 265, 280,  70,  96,  25, 279,  68, 293, 277,\n",
       "       267, 258,  24,  71, 139,  69,  42,  63,  21, 120, 257, 235,  74,\n",
       "       158,  95, 208,  13, 213, 245, 186,  80, 172,  38, 126,  14,  66,\n",
       "       149,   7,  89, 181,  34,  62, 240, 141, 159, 184, 229, 266, 162,\n",
       "       187, 195,  41, 289,  37,  29, 104,  22,  20,  31,  40, 290, 233,\n",
       "       234,  36, 146,  23, 121, 170, 111, 156, 161, 129, 237, 177, 174,\n",
       "       227], dtype=int64)"
      ]
     },
     "execution_count": 43,
     "metadata": {},
     "output_type": "execute_result"
    }
   ],
   "source": [
    "np.argsort(rmse_val_score)"
   ]
  },
  {
   "cell_type": "code",
   "execution_count": 45,
   "metadata": {
    "ExecuteTime": {
     "end_time": "2019-10-10T01:30:55.791464Z",
     "start_time": "2019-10-10T01:30:55.785605Z"
    }
   },
   "outputs": [
    {
     "data": {
      "text/plain": [
       "5.18927371714942"
      ]
     },
     "execution_count": 45,
     "metadata": {},
     "output_type": "execute_result"
    }
   ],
   "source": [
    "rmse(y_test, sgd_regressor.predict(X_test))"
   ]
  },
  {
   "cell_type": "code",
   "execution_count": 46,
   "metadata": {
    "ExecuteTime": {
     "end_time": "2019-10-10T01:31:12.304083Z",
     "start_time": "2019-10-10T01:31:12.298233Z"
    }
   },
   "outputs": [
    {
     "data": {
      "text/plain": [
       "4.820560678676933"
      ]
     },
     "execution_count": 46,
     "metadata": {},
     "output_type": "execute_result"
    }
   ],
   "source": [
    "rmse(y_test, model_list[218].predict(X_test))"
   ]
  },
  {
   "cell_type": "code",
   "execution_count": 47,
   "metadata": {
    "ExecuteTime": {
     "end_time": "2019-10-10T01:31:20.143400Z",
     "start_time": "2019-10-10T01:31:20.136572Z"
    }
   },
   "outputs": [
    {
     "data": {
      "text/plain": [
       "array([-0.7644404 ,  0.73428393,  0.22195692,  0.02285175, -2.27619895,\n",
       "        3.2147374 , -0.01506215, -3.25464517,  1.31553439, -1.55196966,\n",
       "       -2.22344899,  1.18993189, -2.80270909])"
      ]
     },
     "execution_count": 47,
     "metadata": {},
     "output_type": "execute_result"
    }
   ],
   "source": [
    "model_list[0].coef_"
   ]
  }
 ],
 "metadata": {
  "kernelspec": {
   "display_name": "Python 3",
   "language": "python",
   "name": "python3"
  },
  "language_info": {
   "codemirror_mode": {
    "name": "ipython",
    "version": 3
   },
   "file_extension": ".py",
   "mimetype": "text/x-python",
   "name": "python",
   "nbconvert_exporter": "python",
   "pygments_lexer": "ipython3",
   "version": "3.7.3"
  },
  "varInspector": {
   "cols": {
    "lenName": 16,
    "lenType": 16,
    "lenVar": 40
   },
   "kernels_config": {
    "python": {
     "delete_cmd_postfix": "",
     "delete_cmd_prefix": "del ",
     "library": "var_list.py",
     "varRefreshCmd": "print(var_dic_list())"
    },
    "r": {
     "delete_cmd_postfix": ") ",
     "delete_cmd_prefix": "rm(",
     "library": "var_list.r",
     "varRefreshCmd": "cat(var_dic_list()) "
    }
   },
   "types_to_exclude": [
    "module",
    "function",
    "builtin_function_or_method",
    "instance",
    "_Feature"
   ],
   "window_display": false
  }
 },
 "nbformat": 4,
 "nbformat_minor": 2
}
