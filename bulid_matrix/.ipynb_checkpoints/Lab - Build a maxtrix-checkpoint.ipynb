{
 "cells": [
  {
   "cell_type": "markdown",
   "metadata": {},
   "source": [
    "https://github.com/TEAMLAB-Lecture/AI-python-connect/blob/master/lab_assignments/lab_3/README.md"
   ]
  },
  {
   "cell_type": "markdown",
   "metadata": {},
   "source": [
    "본 랩에서 다루는 모든 csv파일의 column은 source, target으로 구성되며, source는 row의 index 정보가, target는 column의 기준 정보가 된다. rating 정보는 get_rating_matrix 함수에서만 사용되며, 사용자가 영화에 대한 평가를 정보를 담고 있다.\n",
    "\n",
    "본 랩의 목적은 위 테이블과 같이 구성된 정보를 Matrix 형태로 바꾸는 거다. Matrix 형태로 바꾸는 규칙은 다음과 같다.\n",
    "\n",
    "- source는 row, target은 column의 기준이 된다.\n",
    "- source와 target의 정렬된 값을 활용하여 index를 설정한다. 즉 위 Table에서는 Claudia Puig과 row의 0번째 index로 설정된다.\n",
    "- rating의 정보는 Matrix에서 각 Element 값에 할당된다.\n",
    "- 생성되는 Matrix Ndarray로 나타난다.\n",
    "- dict, collection 모듈 등 파이썬의 Built-in Module은 사용할 수 있으나, for 문은 사용할 수 없다."
   ]
  },
  {
   "cell_type": "code",
   "execution_count": null,
   "metadata": {},
   "outputs": [],
   "source": [
    "실제한 구현한 예제와 결과물은 아래와 같다.\n",
    "\n",
    ">>> import numpy as np\n",
    ">>> import build_matrix as test_code\n",
    ">>> test_code.get_rating_matrix(\"movie_rating.csv\")\n",
    "array([[ 3. ,  0. ,  3.5,  0. ,  4.5,  0. ],\n",
    "       [ 0. ,  3. ,  3.5,  0. ,  3. ,  3.5],\n",
    "       [ 0. ,  3. ,  4. ,  5. ,  3. ,  3.5],\n",
    "       [ 3. ,  2.5,  3.5,  3.5,  3. ,  2.5],\n",
    "       [ 2. ,  3. ,  4. ,  3. ,  3. ,  0. ],\n",
    "       [ 0. ,  0. ,  4.5,  4. ,  0. ,  0. ]], dtype=float32)"
   ]
  },
  {
   "cell_type": "code",
   "execution_count": 79,
   "metadata": {
    "ExecuteTime": {
     "end_time": "2019-10-07T06:22:39.423325Z",
     "start_time": "2019-10-07T06:22:39.417470Z"
    }
   },
   "outputs": [],
   "source": [
    "import numpy as np\n",
    "import pandas as pd\n",
    "\n",
    "\n",
    "def get_rating_matrix(filename, dtype=np.float32):\n",
    "    filename = pd.read_csv(filename)\n",
    "    X = pd.crosstab(index = filename['source'], columns = filename['target'],\n",
    "                    values = filename.rating, aggfunc = 'sum').fillna(0).values\n",
    "    return X"
   ]
  },
  {
   "cell_type": "code",
   "execution_count": 80,
   "metadata": {
    "ExecuteTime": {
     "end_time": "2019-10-07T06:22:39.796370Z",
     "start_time": "2019-10-07T06:22:39.769060Z"
    }
   },
   "outputs": [
    {
     "data": {
      "text/plain": [
       "array([[3. , 0. , 3.5, 0. , 4.5, 0. ],\n",
       "       [0. , 3. , 3.5, 0. , 3. , 3.5],\n",
       "       [0. , 3. , 4. , 5. , 3. , 3.5],\n",
       "       [3. , 2.5, 3.5, 3.5, 3. , 2.5],\n",
       "       [2. , 3. , 4. , 3. , 3. , 0. ],\n",
       "       [0. , 0. , 4.5, 4. , 0. , 0. ]])"
      ]
     },
     "execution_count": 80,
     "metadata": {},
     "output_type": "execute_result"
    }
   ],
   "source": [
    "filename = './movie_rating.csv'\n",
    "get_rating_matrix(filename)"
   ]
  },
  {
   "cell_type": "markdown",
   "metadata": {},
   "source": [
    "본 함수에서는 기존 함수와 달리 Rating column이 없습니다. 대신 source와 target의 조합이 한 개 이상으로 중복될 수 있고, 이것이 Frequent로 처리해야 합니다. 즉 Rating이 명시적으로 있는게 아니라 데이터를 통해 Frequent를 찾아내는 것이 목적입니다. Matrix 형태로 바꾸는 규칙은 다음과 같습니다.\n",
    "\n",
    "- source는 row, target은 column의 기준이 된다.\n",
    "- source와 target의 정렬된 값을 활용하여 index를 설정한다. 즉 위 Table에서는 1은 row의 0번째 index로 설정된다.\n",
    "- Source와 Target이 출현한 정보는 Frequent로 Matrix에서 각 Element 값에 할당되어야 한다.\n",
    "- 생성되는 Matrix Ndarray로 나타내며, dtype은 np.float32\n",
    "- dict, collection 모듈 등 파이썬의 Built-in Module은 사용할 수 있으나, for 문은 사용할 수 없다."
   ]
  },
  {
   "cell_type": "code",
   "execution_count": null,
   "metadata": {},
   "outputs": [],
   "source": [
    "실제한 구현한 예제와 결과물은 아래와 같다.\n",
    "\n",
    ">>> import numpy as np\n",
    ">>> import build_matrix as test_code\n",
    ">>> test_code.get_frequent_matrix(\"1000i.csv\")\n",
    "array([[ 19.,  17.,  14.,  11.,  17.,  25.,   7.,  22.,   5.,  18.,  10.,\n",
    "         13.,  13.,   8.,  20.,  10.,   9.,  10.,  16.,  15.,   9.,  11.,\n",
    "         17.,  15.,  14.,   8.,   6.,  12.,  18.,  12.,   6.,  18.,   9.,\n",
    "         24.,   7.,  19.,  14.,   6.,   4.,  12.,  15.,  14.,  20.,   9.,\n",
    "         12.,  16.,  11.,   9.,  11.,  12.],\n",
    "       [ 20.,  16.,  10.,  15.,  17.,  18.,  10.,  13.,   5.,  19.,   8.,\n",
    "         14.,  14.,   9.,  15.,  14.,  13.,   8.,  12.,   9.,   5.,  10.,\n",
    "         28.,  18.,   7.,   8.,   6.,  19.,  14.,  13.,  11.,  12.,  18.,\n",
    "         15.,   7.,  11.,  17.,   9.,   5.,   5.,  13.,  12.,  15.,   9.,\n",
    "         13.,  16.,  16.,  10.,  16.,   9.],\n",
    "       [ 12.,  16.,  13.,  19.,  23.,  19.,   5.,  14.,   5.,  18.,   7.,\n",
    "          6.,  14.,   8.,  20.,  17.,  14.,  11.,  16.,  12.,   7.,   9.,\n",
    "         23.,  12.,  12.,   8.,   7.,  23.,  26.,  10.,   9.,  20.,  16.,\n",
    "         11.,   4.,  19.,  12.,  12.,   5.,  10.,  10.,  14.,  10.,  17.,\n",
    "         15.,  16.,  11.,  17.,   9.,  11.],\n",
    "       [ 14.,  14.,  19.,  11.,  11.,  18.,   7.,  16.,   7.,  17.,   6.,\n",
    "         19.,  18.,  12.,  13.,  13.,  14.,   9.,  21.,  16.,   6.,   6.,\n",
    "         19.,  14.,  19.,   5.,  12.,  14.,  18.,  11.,  11.,  21.,  15.,\n",
    "         10.,  11.,  14.,  17.,  21.,   6.,  14.,   9.,  16.,  18.,  12.,\n",
    "         16.,  16.,  26.,  16.,  12.,  20.],\n",
    "       [ 13.,   7.,   8.,  15.,  13.,  16.,   3.,  19.,  11.,  12.,   7.,\n",
    "         10.,  13.,  14.,  16.,  14.,  23.,   9.,  13.,  10.,  11.,   3.,\n",
    "         11.,  14.,   9.,   6.,  11.,  16.,  18.,  11.,   5.,  14.,  10.,\n",
    "         16.,  10.,   5.,  14.,  11.,   3.,   9.,  11.,  10.,  16.,   8.,\n",
    "         13.,  20.,  14.,  18.,  21.,   3.]], dtype=float32)"
   ]
  },
  {
   "cell_type": "code",
   "execution_count": 94,
   "metadata": {
    "ExecuteTime": {
     "end_time": "2019-10-07T07:05:34.399615Z",
     "start_time": "2019-10-07T07:05:34.374266Z"
    }
   },
   "outputs": [
    {
     "data": {
      "text/plain": [
       "array([[19, 17, 14, 11, 17, 25,  7, 22,  5, 18, 10, 13, 13,  8, 20, 10,\n",
       "         9, 10, 16, 15,  9, 11, 17, 15, 14,  8,  6, 12, 18, 12,  6, 18,\n",
       "         9, 24,  7, 19, 14,  6,  4, 12, 15, 14, 20,  9, 12, 16, 11,  9,\n",
       "        11, 12],\n",
       "       [20, 16, 10, 15, 17, 18, 10, 13,  5, 19,  8, 14, 14,  9, 15, 14,\n",
       "        13,  8, 12,  9,  5, 10, 28, 18,  7,  8,  6, 19, 14, 13, 11, 12,\n",
       "        18, 15,  7, 11, 17,  9,  5,  5, 13, 12, 15,  9, 13, 16, 16, 10,\n",
       "        16,  9],\n",
       "       [12, 16, 13, 19, 23, 19,  5, 14,  5, 18,  7,  6, 14,  8, 20, 17,\n",
       "        14, 11, 16, 12,  7,  9, 23, 12, 12,  8,  7, 23, 26, 10,  9, 20,\n",
       "        16, 11,  4, 19, 12, 12,  5, 10, 10, 14, 10, 17, 15, 16, 11, 17,\n",
       "         9, 11],\n",
       "       [14, 14, 19, 11, 11, 18,  7, 16,  7, 17,  6, 19, 18, 12, 13, 13,\n",
       "        14,  9, 21, 16,  6,  6, 19, 14, 19,  5, 12, 14, 18, 11, 11, 21,\n",
       "        15, 10, 11, 14, 17, 21,  6, 14,  9, 16, 18, 12, 16, 16, 26, 16,\n",
       "        12, 20],\n",
       "       [13,  7,  8, 15, 13, 16,  3, 19, 11, 12,  7, 10, 13, 14, 16, 14,\n",
       "        23,  9, 13, 10, 11,  3, 11, 14,  9,  6, 11, 16, 18, 11,  5, 14,\n",
       "        10, 16, 10,  5, 14, 11,  3,  9, 11, 10, 16,  8, 13, 20, 14, 18,\n",
       "        21,  3]], dtype=int64)"
      ]
     },
     "execution_count": 94,
     "metadata": {},
     "output_type": "execute_result"
    }
   ],
   "source": []
  },
  {
   "cell_type": "code",
   "execution_count": 96,
   "metadata": {
    "ExecuteTime": {
     "end_time": "2019-10-07T07:10:38.776521Z",
     "start_time": "2019-10-07T07:10:38.770668Z"
    }
   },
   "outputs": [],
   "source": [
    "def get_frequent_matrix(filename, dtype=np.float32):\n",
    "    X = pd.crosstab(index = a['source'], columns = a['target'],\n",
    "                    values = a['target'], aggfunc = 'count').fillna(0).values\n",
    "    return X"
   ]
  },
  {
   "cell_type": "code",
   "execution_count": 97,
   "metadata": {
    "ExecuteTime": {
     "end_time": "2019-10-07T07:10:39.090003Z",
     "start_time": "2019-10-07T07:10:39.059736Z"
    },
    "scrolled": true
   },
   "outputs": [
    {
     "data": {
      "text/plain": [
       "array([[19, 17, 14, 11, 17, 25,  7, 22,  5, 18, 10, 13, 13,  8, 20, 10,\n",
       "         9, 10, 16, 15,  9, 11, 17, 15, 14,  8,  6, 12, 18, 12,  6, 18,\n",
       "         9, 24,  7, 19, 14,  6,  4, 12, 15, 14, 20,  9, 12, 16, 11,  9,\n",
       "        11, 12],\n",
       "       [20, 16, 10, 15, 17, 18, 10, 13,  5, 19,  8, 14, 14,  9, 15, 14,\n",
       "        13,  8, 12,  9,  5, 10, 28, 18,  7,  8,  6, 19, 14, 13, 11, 12,\n",
       "        18, 15,  7, 11, 17,  9,  5,  5, 13, 12, 15,  9, 13, 16, 16, 10,\n",
       "        16,  9],\n",
       "       [12, 16, 13, 19, 23, 19,  5, 14,  5, 18,  7,  6, 14,  8, 20, 17,\n",
       "        14, 11, 16, 12,  7,  9, 23, 12, 12,  8,  7, 23, 26, 10,  9, 20,\n",
       "        16, 11,  4, 19, 12, 12,  5, 10, 10, 14, 10, 17, 15, 16, 11, 17,\n",
       "         9, 11],\n",
       "       [14, 14, 19, 11, 11, 18,  7, 16,  7, 17,  6, 19, 18, 12, 13, 13,\n",
       "        14,  9, 21, 16,  6,  6, 19, 14, 19,  5, 12, 14, 18, 11, 11, 21,\n",
       "        15, 10, 11, 14, 17, 21,  6, 14,  9, 16, 18, 12, 16, 16, 26, 16,\n",
       "        12, 20],\n",
       "       [13,  7,  8, 15, 13, 16,  3, 19, 11, 12,  7, 10, 13, 14, 16, 14,\n",
       "        23,  9, 13, 10, 11,  3, 11, 14,  9,  6, 11, 16, 18, 11,  5, 14,\n",
       "        10, 16, 10,  5, 14, 11,  3,  9, 11, 10, 16,  8, 13, 20, 14, 18,\n",
       "        21,  3]], dtype=int64)"
      ]
     },
     "execution_count": 97,
     "metadata": {},
     "output_type": "execute_result"
    }
   ],
   "source": [
    "a = pd.read_csv('1000i.csv')\n",
    "get_frequent_matrix(a)"
   ]
  }
 ],
 "metadata": {
  "kernelspec": {
   "display_name": "Python 3",
   "language": "python",
   "name": "python3"
  },
  "language_info": {
   "codemirror_mode": {
    "name": "ipython",
    "version": 3
   },
   "file_extension": ".py",
   "mimetype": "text/x-python",
   "name": "python",
   "nbconvert_exporter": "python",
   "pygments_lexer": "ipython3",
   "version": "3.7.3"
  },
  "varInspector": {
   "cols": {
    "lenName": 16,
    "lenType": 16,
    "lenVar": 40
   },
   "kernels_config": {
    "python": {
     "delete_cmd_postfix": "",
     "delete_cmd_prefix": "del ",
     "library": "var_list.py",
     "varRefreshCmd": "print(var_dic_list())"
    },
    "r": {
     "delete_cmd_postfix": ") ",
     "delete_cmd_prefix": "rm(",
     "library": "var_list.r",
     "varRefreshCmd": "cat(var_dic_list()) "
    }
   },
   "types_to_exclude": [
    "module",
    "function",
    "builtin_function_or_method",
    "instance",
    "_Feature"
   ],
   "window_display": false
  }
 },
 "nbformat": 4,
 "nbformat_minor": 2
}
