{
 "cells": [
  {
   "cell_type": "markdown",
   "metadata": {},
   "source": [
    "## Linear Regression with Normal equation"
   ]
  },
  {
   "cell_type": "code",
   "execution_count": 1,
   "metadata": {},
   "outputs": [],
   "source": [
    "% matplotlib inline\n",
    "\n",
    "import numpy as np\n",
    "import pandas as pd\n",
    "import matplotlib.pyplot as plt"
   ]
  },
  {
   "cell_type": "code",
   "execution_count": 54,
   "metadata": {},
   "outputs": [],
   "source": [
    "from sklearn.datasets import load_boston\n",
    "boston = load_boston() # 항상 dict 타입임을 생각하자"
   ]
  },
  {
   "cell_type": "code",
   "execution_count": 55,
   "metadata": {},
   "outputs": [
    {
     "data": {
      "text/plain": [
       "dict_keys(['data', 'target', 'feature_names', 'DESCR'])"
      ]
     },
     "execution_count": 55,
     "metadata": {},
     "output_type": "execute_result"
    }
   ],
   "source": [
    "boston.keys()"
   ]
  },
  {
   "cell_type": "code",
   "execution_count": 56,
   "metadata": {},
   "outputs": [
    {
     "data": {
      "text/plain": [
       "array(['CRIM', 'ZN', 'INDUS', 'CHAS', 'NOX', 'RM', 'AGE', 'DIS', 'RAD',\n",
       "       'TAX', 'PTRATIO', 'B', 'LSTAT'], dtype='<U7')"
      ]
     },
     "execution_count": 56,
     "metadata": {},
     "output_type": "execute_result"
    }
   ],
   "source": [
    "boston.feature_names"
   ]
  },
  {
   "cell_type": "code",
   "execution_count": 57,
   "metadata": {},
   "outputs": [
    {
     "data": {
      "text/html": [
       "<div>\n",
       "<style scoped>\n",
       "    .dataframe tbody tr th:only-of-type {\n",
       "        vertical-align: middle;\n",
       "    }\n",
       "\n",
       "    .dataframe tbody tr th {\n",
       "        vertical-align: top;\n",
       "    }\n",
       "\n",
       "    .dataframe thead th {\n",
       "        text-align: right;\n",
       "    }\n",
       "</style>\n",
       "<table border=\"1\" class=\"dataframe\">\n",
       "  <thead>\n",
       "    <tr style=\"text-align: right;\">\n",
       "      <th></th>\n",
       "      <th>CRIM</th>\n",
       "      <th>ZN</th>\n",
       "      <th>INDUS</th>\n",
       "      <th>CHAS</th>\n",
       "      <th>NOX</th>\n",
       "      <th>RM</th>\n",
       "      <th>AGE</th>\n",
       "      <th>DIS</th>\n",
       "      <th>RAD</th>\n",
       "      <th>TAX</th>\n",
       "      <th>PTRATIO</th>\n",
       "      <th>B</th>\n",
       "      <th>LSTAT</th>\n",
       "    </tr>\n",
       "  </thead>\n",
       "  <tbody>\n",
       "    <tr>\n",
       "      <th>0</th>\n",
       "      <td>0.00632</td>\n",
       "      <td>18.0</td>\n",
       "      <td>2.31</td>\n",
       "      <td>0.0</td>\n",
       "      <td>0.538</td>\n",
       "      <td>6.575</td>\n",
       "      <td>65.2</td>\n",
       "      <td>4.0900</td>\n",
       "      <td>1.0</td>\n",
       "      <td>296.0</td>\n",
       "      <td>15.3</td>\n",
       "      <td>396.90</td>\n",
       "      <td>4.98</td>\n",
       "    </tr>\n",
       "    <tr>\n",
       "      <th>1</th>\n",
       "      <td>0.02731</td>\n",
       "      <td>0.0</td>\n",
       "      <td>7.07</td>\n",
       "      <td>0.0</td>\n",
       "      <td>0.469</td>\n",
       "      <td>6.421</td>\n",
       "      <td>78.9</td>\n",
       "      <td>4.9671</td>\n",
       "      <td>2.0</td>\n",
       "      <td>242.0</td>\n",
       "      <td>17.8</td>\n",
       "      <td>396.90</td>\n",
       "      <td>9.14</td>\n",
       "    </tr>\n",
       "    <tr>\n",
       "      <th>2</th>\n",
       "      <td>0.02729</td>\n",
       "      <td>0.0</td>\n",
       "      <td>7.07</td>\n",
       "      <td>0.0</td>\n",
       "      <td>0.469</td>\n",
       "      <td>7.185</td>\n",
       "      <td>61.1</td>\n",
       "      <td>4.9671</td>\n",
       "      <td>2.0</td>\n",
       "      <td>242.0</td>\n",
       "      <td>17.8</td>\n",
       "      <td>392.83</td>\n",
       "      <td>4.03</td>\n",
       "    </tr>\n",
       "    <tr>\n",
       "      <th>3</th>\n",
       "      <td>0.03237</td>\n",
       "      <td>0.0</td>\n",
       "      <td>2.18</td>\n",
       "      <td>0.0</td>\n",
       "      <td>0.458</td>\n",
       "      <td>6.998</td>\n",
       "      <td>45.8</td>\n",
       "      <td>6.0622</td>\n",
       "      <td>3.0</td>\n",
       "      <td>222.0</td>\n",
       "      <td>18.7</td>\n",
       "      <td>394.63</td>\n",
       "      <td>2.94</td>\n",
       "    </tr>\n",
       "    <tr>\n",
       "      <th>4</th>\n",
       "      <td>0.06905</td>\n",
       "      <td>0.0</td>\n",
       "      <td>2.18</td>\n",
       "      <td>0.0</td>\n",
       "      <td>0.458</td>\n",
       "      <td>7.147</td>\n",
       "      <td>54.2</td>\n",
       "      <td>6.0622</td>\n",
       "      <td>3.0</td>\n",
       "      <td>222.0</td>\n",
       "      <td>18.7</td>\n",
       "      <td>396.90</td>\n",
       "      <td>5.33</td>\n",
       "    </tr>\n",
       "  </tbody>\n",
       "</table>\n",
       "</div>"
      ],
      "text/plain": [
       "      CRIM    ZN  INDUS  CHAS    NOX     RM   AGE     DIS  RAD    TAX  \\\n",
       "0  0.00632  18.0   2.31   0.0  0.538  6.575  65.2  4.0900  1.0  296.0   \n",
       "1  0.02731   0.0   7.07   0.0  0.469  6.421  78.9  4.9671  2.0  242.0   \n",
       "2  0.02729   0.0   7.07   0.0  0.469  7.185  61.1  4.9671  2.0  242.0   \n",
       "3  0.03237   0.0   2.18   0.0  0.458  6.998  45.8  6.0622  3.0  222.0   \n",
       "4  0.06905   0.0   2.18   0.0  0.458  7.147  54.2  6.0622  3.0  222.0   \n",
       "\n",
       "   PTRATIO       B  LSTAT  \n",
       "0     15.3  396.90   4.98  \n",
       "1     17.8  396.90   9.14  \n",
       "2     17.8  392.83   4.03  \n",
       "3     18.7  394.63   2.94  \n",
       "4     18.7  396.90   5.33  "
      ]
     },
     "execution_count": 57,
     "metadata": {},
     "output_type": "execute_result"
    }
   ],
   "source": [
    "df = pd.DataFrame(boston.data, columns = boston.feature_names)\n",
    "df.head()"
   ]
  },
  {
   "cell_type": "code",
   "execution_count": 58,
   "metadata": {},
   "outputs": [],
   "source": [
    "X = df.values\n",
    "y = boston.target"
   ]
  },
  {
   "cell_type": "code",
   "execution_count": 59,
   "metadata": {},
   "outputs": [],
   "source": [
    "from sklearn.linear_model import LinearRegression\n",
    "lr_ne = LinearRegression(fit_intercept = True)"
   ]
  },
  {
   "cell_type": "code",
   "execution_count": 60,
   "metadata": {},
   "outputs": [],
   "source": [
    "from sklearn.model_selection import train_test_split\n",
    "X_train, X_test, y_train, y_test = train_test_split(X, y, test_size = 0.33, random_state = 42)"
   ]
  },
  {
   "cell_type": "code",
   "execution_count": 61,
   "metadata": {},
   "outputs": [
    {
     "data": {
      "text/plain": [
       "LinearRegression(copy_X=True, fit_intercept=True, n_jobs=1, normalize=False)"
      ]
     },
     "execution_count": 61,
     "metadata": {},
     "output_type": "execute_result"
    }
   ],
   "source": [
    "lr_ne.fit(X_train, y_train)"
   ]
  },
  {
   "cell_type": "code",
   "execution_count": 62,
   "metadata": {},
   "outputs": [],
   "source": [
    "y_hat = lr_ne.predict(X_test)\n",
    "y_true = y_test"
   ]
  },
  {
   "cell_type": "code",
   "execution_count": 63,
   "metadata": {},
   "outputs": [
    {
     "data": {
      "text/plain": [
       "4.554903221837861"
      ]
     },
     "execution_count": 63,
     "metadata": {},
     "output_type": "execute_result"
    }
   ],
   "source": [
    "rmse = np.sqrt((((y_hat - y_true) ** 2).sum() / len(y_true)))\n",
    "rmse"
   ]
  },
  {
   "cell_type": "code",
   "execution_count": 64,
   "metadata": {},
   "outputs": [
    {
     "data": {
      "text/plain": [
       "20.74714336030893"
      ]
     },
     "execution_count": 64,
     "metadata": {},
     "output_type": "execute_result"
    }
   ],
   "source": [
    "import sklearn\n",
    "mse = sklearn.metrics.mean_squared_error(y_hat, y_true)\n",
    "mse"
   ]
  },
  {
   "cell_type": "code",
   "execution_count": 65,
   "metadata": {},
   "outputs": [
    {
     "data": {
      "text/plain": [
       "Text(0.5,1,'Prices vs Predicted prices: $Y_i$ vs $\\\\hat{Y}_i$')"
      ]
     },
     "execution_count": 65,
     "metadata": {},
     "output_type": "execute_result"
    },
    {
     "data": {
      "image/png": "[encoded data removed]",
      "text/plain": [
       "<Figure size 432x288 with 1 Axes>"
      ]
     },
     "metadata": {
      "needs_background": "light"
     },
     "output_type": "display_data"
    }
   ],
   "source": [
    "plt.scatter(y_true, y_hat, s = 10)\n",
    "plt.xlabel('Prices : $Y_i$')\n",
    "plt.ylabel('Predicted prices: $\\hat{Y}_i$')\n",
    "plt.title('Prices vs Predicted prices: $Y_i$ vs $\\hat{Y}_i$')"
   ]
  },
  {
   "cell_type": "code",
   "execution_count": 66,
   "metadata": {},
   "outputs": [
    {
     "data": {
      "text/plain": [
       "array([-1.28060398e-01,  3.77955693e-02,  5.86107797e-02,  3.24007007e+00,\n",
       "       -1.62222676e+01,  3.89352244e+00, -1.27879944e-02, -1.42326864e+00,\n",
       "        2.34513082e-01, -8.20261127e-03, -9.29950535e-01,  1.19151410e-02,\n",
       "       -5.48489997e-01])"
      ]
     },
     "execution_count": 66,
     "metadata": {},
     "output_type": "execute_result"
    }
   ],
   "source": [
    "lr_ne.coef_"
   ]
  },
  {
   "cell_type": "code",
   "execution_count": 67,
   "metadata": {},
   "outputs": [
    {
     "data": {
      "text/plain": [
       "array(['CRIM', 'ZN', 'INDUS', 'CHAS', 'NOX', 'RM', 'AGE', 'DIS', 'RAD',\n",
       "       'TAX', 'PTRATIO', 'B', 'LSTAT'], dtype='<U7')"
      ]
     },
     "execution_count": 67,
     "metadata": {},
     "output_type": "execute_result"
    }
   ],
   "source": [
    "boston.feature_names"
   ]
  },
  {
   "cell_type": "markdown",
   "metadata": {},
   "source": [
    "## Linear Regression with SGD"
   ]
  },
  {
   "cell_type": "code",
   "execution_count": 68,
   "metadata": {},
   "outputs": [],
   "source": [
    "from sklearn.linear_model import SGDRegressor\n",
    "lr_SGD = SGDRegressor()"
   ]
  },
  {
   "cell_type": "code",
   "execution_count": 69,
   "metadata": {},
   "outputs": [],
   "source": [
    "from sklearn.preprocessing import StandardScaler\n",
    "std_scaler = StandardScaler()\n",
    "std_scaler.fit(X)\n",
    "X_scaled = std_scaler.transform(X)"
   ]
  },
  {
   "cell_type": "code",
   "execution_count": 70,
   "metadata": {},
   "outputs": [],
   "source": [
    "from sklearn.model_selection import train_test_split\n",
    "X_train, X_test, y_train, y_test = train_test_split(\n",
    "    X, y, test_size = 0.33, random_state = 42)"
   ]
  },
  {
   "cell_type": "code",
   "execution_count": 71,
   "metadata": {},
   "outputs": [
    {
     "name": "stderr",
     "output_type": "stream",
     "text": [
      "C:\\Users\\dxodn\\Anaconda3\\lib\\site-packages\\sklearn\\linear_model\\stochastic_gradient.py:128: FutureWarning: max_iter and tol parameters have been added in <class 'sklearn.linear_model.stochastic_gradient.SGDRegressor'> in 0.19. If both are left unset, they default to max_iter=5 and tol=None. If tol is not None, max_iter defaults to max_iter=1000. From 0.21, default max_iter will be 1000, and default tol will be 1e-3.\n",
      "  \"and default tol will be 1e-3.\" % type(self), FutureWarning)\n"
     ]
    },
    {
     "data": {
      "text/plain": [
       "SGDRegressor(alpha=0.0001, average=False, epsilon=0.1, eta0=0.01,\n",
       "       fit_intercept=True, l1_ratio=0.15, learning_rate='invscaling',\n",
       "       loss='squared_loss', max_iter=None, n_iter=None, penalty='l2',\n",
       "       power_t=0.25, random_state=None, shuffle=True, tol=None, verbose=0,\n",
       "       warm_start=False)"
      ]
     },
     "execution_count": 71,
     "metadata": {},
     "output_type": "execute_result"
    }
   ],
   "source": [
    "lr_SGD.fit(X_train, y_train)"
   ]
  },
  {
   "cell_type": "code",
   "execution_count": 72,
   "metadata": {},
   "outputs": [],
   "source": [
    "y_hat = lr_SGD.predict(X_test)\n",
    "y_true = y_test"
   ]
  },
  {
   "cell_type": "code",
   "execution_count": 73,
   "metadata": {},
   "outputs": [
    {
     "data": {
      "text/plain": [
       "(1.0702067194196999e+27, 32714014113521.746)"
      ]
     },
     "execution_count": 73,
     "metadata": {},
     "output_type": "execute_result"
    }
   ],
   "source": [
    "mse = sklearn.metrics.mean_squared_error(y_hat, y_true)\n",
    "rmse = np.sqrt((((y_hat - y_true) ** 2).sum() / len(y_true)))\n",
    "mse, rmse"
   ]
  },
  {
   "cell_type": "code",
   "execution_count": 74,
   "metadata": {},
   "outputs": [
    {
     "data": {
      "text/plain": [
       "Text(0.5,1,'Prices vs Predicted prices: $Y_i$ vs $\\\\hat{Y}_i$')"
      ]
     },
     "execution_count": 74,
     "metadata": {},
     "output_type": "execute_result"
    },
    {
     "data": {
      "image/png": "[encoded data removed]",
      "text/plain": [
       "<Figure size 432x288 with 1 Axes>"
      ]
     },
     "metadata": {
      "needs_background": "light"
     },
     "output_type": "display_data"
    }
   ],
   "source": [
    "plt.scatter(y_true, y_hat, s = 10)\n",
    "plt.xlabel('Prices : $Y_i$')\n",
    "plt.ylabel('Predicted prices: $\\hat{Y}_i$')\n",
    "plt.title('Prices vs Predicted prices: $Y_i$ vs $\\hat{Y}_i$')"
   ]
  },
  {
   "cell_type": "code",
   "execution_count": 75,
   "metadata": {},
   "outputs": [],
   "source": [
    "from sklearn.model_selection import train_test_split\n",
    "X_train, X_test, y_train, y_test = train_test_split(\n",
    "    X_scaled, y, test_size = 0.33, random_state = 42)"
   ]
  },
  {
   "cell_type": "code",
   "execution_count": 76,
   "metadata": {},
   "outputs": [
    {
     "name": "stderr",
     "output_type": "stream",
     "text": [
      "C:\\Users\\dxodn\\Anaconda3\\lib\\site-packages\\sklearn\\linear_model\\stochastic_gradient.py:128: FutureWarning: max_iter and tol parameters have been added in <class 'sklearn.linear_model.stochastic_gradient.SGDRegressor'> in 0.19. If both are left unset, they default to max_iter=5 and tol=None. If tol is not None, max_iter defaults to max_iter=1000. From 0.21, default max_iter will be 1000, and default tol will be 1e-3.\n",
      "  \"and default tol will be 1e-3.\" % type(self), FutureWarning)\n"
     ]
    },
    {
     "data": {
      "text/plain": [
       "SGDRegressor(alpha=0.0001, average=False, epsilon=0.1, eta0=0.01,\n",
       "       fit_intercept=True, l1_ratio=0.15, learning_rate='invscaling',\n",
       "       loss='squared_loss', max_iter=None, n_iter=None, penalty='l2',\n",
       "       power_t=0.25, random_state=None, shuffle=True, tol=None, verbose=0,\n",
       "       warm_start=False)"
      ]
     },
     "execution_count": 76,
     "metadata": {},
     "output_type": "execute_result"
    }
   ],
   "source": [
    "lr_SGD.fit(X_train, y_train)"
   ]
  },
  {
   "cell_type": "code",
   "execution_count": 77,
   "metadata": {},
   "outputs": [],
   "source": [
    "y_hat = lr_SGD.predict(X_test)\n",
    "y_true = y_test"
   ]
  },
  {
   "cell_type": "code",
   "execution_count": 78,
   "metadata": {},
   "outputs": [
    {
     "data": {
      "text/plain": [
       "(23.7617705176504, 4.8746046524462265)"
      ]
     },
     "execution_count": 78,
     "metadata": {},
     "output_type": "execute_result"
    }
   ],
   "source": [
    "mse = sklearn.metrics.mean_squared_error(y_hat, y_true)\n",
    "rmse = np.sqrt((((y_hat - y_true) ** 2).sum() / len(y_true)))\n",
    "mse, rmse"
   ]
  },
  {
   "cell_type": "code",
   "execution_count": 79,
   "metadata": {},
   "outputs": [
    {
     "data": {
      "text/plain": [
       "Text(0.5,1,'Prices vs Predicted prices: $Y_i$ vs $\\\\hat{Y}_i$')"
      ]
     },
     "execution_count": 79,
     "metadata": {},
     "output_type": "execute_result"
    },
    {
     "data": {
      "image/png": "[encoded data removed]",
      "text/plain": [
       "<Figure size 432x288 with 1 Axes>"
      ]
     },
     "metadata": {
      "needs_background": "light"
     },
     "output_type": "display_data"
    }
   ],
   "source": [
    "plt.scatter(y_true, y_hat, s = 10)\n",
    "plt.xlabel('Prices: $Y_i$')\n",
    "plt.ylabel('Predicted prices: $\\hat{Y}_i$')\n",
    "plt.title('Prices vs Predicted prices: $Y_i$ vs $\\hat{Y}_i$')"
   ]
  },
  {
   "cell_type": "markdown",
   "metadata": {},
   "source": [
    "## Linear Regression with Ridge & Lasso regression"
   ]
  },
  {
   "cell_type": "code",
   "execution_count": 80,
   "metadata": {},
   "outputs": [],
   "source": [
    "from sklearn.linear_model import Lasso, Ridge"
   ]
  },
  {
   "cell_type": "code",
   "execution_count": 81,
   "metadata": {},
   "outputs": [],
   "source": [
    "X_train, X_test, y_train, y_test = train_test_split(\n",
    "    X, y, test_size = 0.33, random_state = 42)"
   ]
  },
  {
   "cell_type": "code",
   "execution_count": 82,
   "metadata": {},
   "outputs": [
    {
     "data": {
      "text/plain": [
       "Ridge(alpha=0.5, copy_X=True, fit_intercept=True, max_iter=None,\n",
       "   normalize=False, random_state=None, solver='auto', tol=0.001)"
      ]
     },
     "execution_count": 82,
     "metadata": {},
     "output_type": "execute_result"
    }
   ],
   "source": [
    "ridge = Ridge(fit_intercept = True, alpha = 0.5)\n",
    "ridge.fit(X_train, y_train)\n",
    "# lasso = Lasso(fit_intercept = True, alpha = 0.5)"
   ]
  },
  {
   "cell_type": "code",
   "execution_count": 83,
   "metadata": {},
   "outputs": [
    {
     "data": {
      "text/plain": [
       "(20.988940550315263, 4.581368851153033)"
      ]
     },
     "execution_count": 83,
     "metadata": {},
     "output_type": "execute_result"
    }
   ],
   "source": [
    "y_hat = ridge.predict(X_test)\n",
    "y_true = y_test\n",
    "mse = sklearn.metrics.mean_squared_error(y_hat, y_true)\n",
    "rmse = np.sqrt((((y_hat - y_true) ** 2).sum() / len(y_true)))\n",
    "mse, rmse"
   ]
  },
  {
   "cell_type": "code",
   "execution_count": 84,
   "metadata": {},
   "outputs": [
    {
     "data": {
      "text/plain": [
       "Text(0.5,1,'Prices vs PRedicted prices: $Y_i$ vs $\\\\hat{Y}_i$')"
      ]
     },
     "execution_count": 84,
     "metadata": {},
     "output_type": "execute_result"
    },
    {
     "data": {
      "image/png": "[encoded data removed]",
      "text/plain": [
       "<Figure size 432x288 with 1 Axes>"
      ]
     },
     "metadata": {
      "needs_background": "light"
     },
     "output_type": "display_data"
    }
   ],
   "source": [
    "plt.scatter(y_true, y_hat, s= 10)\n",
    "plt.xlabel('Prices: $Y_i$')\n",
    "plt.ylabel('Predicted prices: $\\hat{Y}_i$')\n",
    "plt.title('Prices vs PRedicted prices: $Y_i$ vs $\\hat{Y}_i$')"
   ]
  },
  {
   "cell_type": "code",
   "execution_count": 92,
   "metadata": {},
   "outputs": [
    {
     "name": "stdout",
     "output_type": "stream",
     "text": [
      "Ridge Regression\n",
      "alpha\t RMSE_train\t RMSE_10cv\n",
      "\n",
      "0.010\t 4.5554\t\t 5.8806\n",
      "0.418\t 4.5773\t\t 5.8467\n",
      "0.826\t 4.5957\t\t 5.8319\n",
      "1.234\t 4.6097\t\t 5.8234\n",
      "1.642\t 4.6203\t\t 5.8175\n",
      "2.050\t 4.6284\t\t 5.8126\n",
      "2.458\t 4.6349\t\t 5.8082\n",
      "2.866\t 4.6402\t\t 5.8041\n",
      "3.274\t 4.6445\t\t 5.8000\n",
      "3.682\t 4.6481\t\t 5.7960\n",
      "4.090\t 4.6512\t\t 5.7920\n",
      "4.498\t 4.6538\t\t 5.7880\n",
      "4.906\t 4.6562\t\t 5.7840\n",
      "5.313\t 4.6582\t\t 5.7800\n",
      "5.721\t 4.6600\t\t 5.7760\n",
      "6.129\t 4.6616\t\t 5.7720\n",
      "6.537\t 4.6631\t\t 5.7680\n",
      "6.945\t 4.6644\t\t 5.7641\n",
      "7.353\t 4.6657\t\t 5.7602\n",
      "7.761\t 4.6668\t\t 5.7563\n",
      "8.169\t 4.6679\t\t 5.7524\n",
      "8.577\t 4.6689\t\t 5.7485\n",
      "8.985\t 4.6698\t\t 5.7447\n",
      "9.393\t 4.6707\t\t 5.7410\n",
      "9.801\t 4.6716\t\t 5.7372\n",
      "10.209\t 4.6724\t\t 5.7335\n",
      "10.617\t 4.6732\t\t 5.7298\n",
      "11.025\t 4.6739\t\t 5.7262\n",
      "11.433\t 4.6747\t\t 5.7226\n",
      "11.841\t 4.6754\t\t 5.7190\n",
      "12.249\t 4.6761\t\t 5.7155\n",
      "12.657\t 4.6768\t\t 5.7120\n",
      "13.065\t 4.6774\t\t 5.7086\n",
      "13.473\t 4.6781\t\t 5.7052\n",
      "13.881\t 4.6787\t\t 5.7018\n",
      "14.289\t 4.6793\t\t 5.6985\n",
      "14.697\t 4.6799\t\t 5.6952\n",
      "15.104\t 4.6806\t\t 5.6919\n",
      "15.512\t 4.6812\t\t 5.6887\n",
      "15.920\t 4.6818\t\t 5.6856\n",
      "16.328\t 4.6824\t\t 5.6824\n",
      "16.736\t 4.6829\t\t 5.6793\n",
      "17.144\t 4.6835\t\t 5.6762\n",
      "17.552\t 4.6841\t\t 5.6732\n",
      "17.960\t 4.6847\t\t 5.6702\n",
      "18.368\t 4.6853\t\t 5.6672\n",
      "18.776\t 4.6858\t\t 5.6643\n",
      "19.184\t 4.6864\t\t 5.6614\n",
      "19.592\t 4.6870\t\t 5.6585\n",
      "20.000\t 4.6876\t\t 5.6557\n"
     ]
    }
   ],
   "source": [
    "from sklearn.model_selection import KFold\n",
    "\n",
    "print('Ridge Regression')\n",
    "print('alpha\\t RMSE_train\\t RMSE_10cv\\n')\n",
    "alpha = np.linspace(.01, 20, 50)\n",
    "t_rmse = np.array([])\n",
    "cv_rmse = np.array([])\n",
    "\n",
    "for a in alpha:\n",
    "    ridge = Ridge(fit_intercept = True, alpha = a)\n",
    "    \n",
    "    # computing the RMSE on training data\n",
    "    ridge.fit(X_train, y_train)\n",
    "    p = ridge.predict(X_test)\n",
    "    err= p - y_test\n",
    "    total_error = np.dot(err, err)\n",
    "    rmse_train = np.sqrt(total_error / len(p))\n",
    "    \n",
    "    # computing RMSE using 10-fold cross validation\n",
    "    kf = KFold(10)\n",
    "    xval_err = 0\n",
    "    for train, test in kf.split(X):\n",
    "        ridge.fit(X[train], y[train])\n",
    "        p = ridge.predict(X[test])\n",
    "        err = p - y[test]\n",
    "        xval_err += np.dot(err, err)\n",
    "    rmse_10cv = np.sqrt(xval_err / len(X))\n",
    "\n",
    "    t_rmse = np.append(t_rmse, [rmse_train])\n",
    "    cv_rmse = np.append(cv_rmse, [rmse_10cv])\n",
    "    print('{:.3f}\\t {:.4f}\\t\\t {:.4f}'.format(a, rmse_train, rmse_10cv))"
   ]
  },
  {
   "cell_type": "code",
   "execution_count": 94,
   "metadata": {},
   "outputs": [
    {
     "data": {
      "text/plain": [
       "Text(0.5,0,'Alpha')"
      ]
     },
     "execution_count": 94,
     "metadata": {},
     "output_type": "execute_result"
    },
    {
     "data": {
      "image/png": "[encoded data removed]",
      "text/plain": [
       "<Figure size 432x288 with 1 Axes>"
      ]
     },
     "metadata": {
      "needs_background": "light"
     },
     "output_type": "display_data"
    }
   ],
   "source": [
    "plt.plot(alpha, t_rmse, label = 'RMSE-Train')\n",
    "plt.plot(alpha, cv_rmse, label = 'RMSE_XVal')\n",
    "plt.legend(('RMSE-Train', 'RMSE-XVal'))\n",
    "plt.ylabel('RMSE')\n",
    "plt.xlabel('Alpha')"
   ]
  },
  {
   "cell_type": "code",
   "execution_count": 96,
   "metadata": {},
   "outputs": [
    {
     "name": "stdout",
     "output_type": "stream",
     "text": [
      "Method:  linear regression\n",
      "RMSE on training: 4.5549\n",
      "RMSE on 10-fold CV: 0.9682\n",
      "Method:  linear regression\n",
      "RMSE on training: 4.5549\n",
      "RMSE on 10-fold CV: 1.5381\n",
      "Method:  linear regression\n",
      "RMSE on training: 4.5549\n",
      "RMSE on 10-fold CV: 1.9462\n",
      "Method:  linear regression\n",
      "RMSE on training: 4.5549\n",
      "RMSE on 10-fold CV: 2.7083\n",
      "Method:  linear regression\n",
      "RMSE on training: 4.5549\n",
      "RMSE on 10-fold CV: 3.2485\n",
      "Method:  linear regression\n",
      "RMSE on training: 4.5549\n",
      "RMSE on 10-fold CV: 3.5432\n",
      "Method:  linear regression\n",
      "RMSE on training: 4.5549\n",
      "RMSE on 10-fold CV: 3.6794\n",
      "Method:  linear regression\n",
      "RMSE on training: 4.5549\n",
      "RMSE on 10-fold CV: 5.4947\n",
      "Method:  linear regression\n",
      "RMSE on training: 4.5549\n",
      "RMSE on 10-fold CV: 5.7891\n",
      "Method:  linear regression\n",
      "RMSE on training: 4.5549\n",
      "RMSE on 10-fold CV: 5.8819\n",
      "Method:  lasso\n",
      "RMSE on training: 4.7270\n",
      "RMSE on 10-fold CV: 0.9880\n",
      "Method:  lasso\n",
      "RMSE on training: 4.7270\n",
      "RMSE on 10-fold CV: 1.5044\n",
      "Method:  lasso\n",
      "RMSE on training: 4.7270\n",
      "RMSE on 10-fold CV: 1.7736\n",
      "Method:  lasso\n",
      "RMSE on training: 4.7270\n",
      "RMSE on 10-fold CV: 2.7534\n",
      "Method:  lasso\n",
      "RMSE on training: 4.7270\n",
      "RMSE on 10-fold CV: 3.2795\n",
      "Method:  lasso\n",
      "RMSE on training: 4.7270\n",
      "RMSE on 10-fold CV: 3.6062\n",
      "Method:  lasso\n",
      "RMSE on training: 4.7270\n",
      "RMSE on 10-fold CV: 3.7580\n",
      "Method:  lasso\n",
      "RMSE on training: 4.7270\n",
      "RMSE on 10-fold CV: 5.3737\n",
      "Method:  lasso\n",
      "RMSE on training: 4.7270\n",
      "RMSE on 10-fold CV: 5.6536\n",
      "Method:  lasso\n",
      "RMSE on training: 4.7270\n",
      "RMSE on 10-fold CV: 5.7675\n",
      "Method:  ridge\n",
      "RMSE on training: 4.5710\n",
      "RMSE on 10-fold CV: 0.9676\n",
      "Method:  ridge\n",
      "RMSE on training: 4.5710\n",
      "RMSE on 10-fold CV: 1.5147\n",
      "Method:  ridge\n",
      "RMSE on training: 4.5710\n",
      "RMSE on 10-fold CV: 1.8803\n",
      "Method:  ridge\n",
      "RMSE on training: 4.5710\n",
      "RMSE on 10-fold CV: 2.6714\n",
      "Method:  ridge\n",
      "RMSE on training: 4.5710\n",
      "RMSE on 10-fold CV: 3.2016\n",
      "Method:  ridge\n",
      "RMSE on training: 4.5710\n",
      "RMSE on 10-fold CV: 3.4921\n",
      "Method:  ridge\n",
      "RMSE on training: 4.5710\n",
      "RMSE on 10-fold CV: 3.6265\n",
      "Method:  ridge\n",
      "RMSE on training: 4.5710\n",
      "RMSE on 10-fold CV: 5.4616\n",
      "Method:  ridge\n",
      "RMSE on training: 4.5710\n",
      "RMSE on 10-fold CV: 5.7591\n",
      "Method:  ridge\n",
      "RMSE on training: 4.5710\n",
      "RMSE on 10-fold CV: 5.8535\n"
     ]
    }
   ],
   "source": [
    "a = 0.3\n",
    "for name, met in [\n",
    "    ('linear regression', LinearRegression()),\n",
    "    ('lasso', Lasso(fit_intercept = True, alpha = a)),\n",
    "    ('ridge', Ridge(fit_intercept = True, alpha = a))\n",
    "    ]:\n",
    "    met.fit(X_train, y_train)\n",
    "    p = met.predict(X_test)\n",
    "    e = p - y_test\n",
    "    total_error = np.dot(e, e)\n",
    "    rmse_train = np.sqrt(total_error / len(p))\n",
    "    \n",
    "    kf = KFold(10)\n",
    "    err = 0\n",
    "    for train, test in kf.split(X):\n",
    "        met.fit(X[train], y[train])\n",
    "        p = met.predict(X[test])\n",
    "        e = p - y[test]\n",
    "        err += np.dot(e, e)\n",
    "        \n",
    "        rmse_10cv = np.sqrt(err / len(X))\n",
    "        print('Method: ', name)\n",
    "        print('RMSE on training: %.4f' %rmse_train)\n",
    "        print('RMSE on 10-fold CV: %.4f' %rmse_10cv)"
   ]
  }
 ],
 "metadata": {
  "kernelspec": {
   "display_name": "Python 3",
   "language": "python",
   "name": "python3"
  },
  "language_info": {
   "codemirror_mode": {
    "name": "ipython",
    "version": 3
   },
   "file_extension": ".py",
   "mimetype": "text/x-python",
   "name": "python",
   "nbconvert_exporter": "python",
   "pygments_lexer": "ipython3",
   "version": "3.7.0"
  }
 },
 "nbformat": 4,
 "nbformat_minor": 2
}
